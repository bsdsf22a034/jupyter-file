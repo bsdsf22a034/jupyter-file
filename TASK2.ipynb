{
 "cells": [
  {
   "cell_type": "code",
   "execution_count": 3,
   "metadata": {},
   "outputs": [
    {
     "name": "stdout",
     "output_type": "stream",
     "text": [
      "\n",
      "Number of customers from New York (Dictionary approach): 20\n",
      "Number of customers from New York (DataFrame approach): 20\n"
     ]
    }
   ],
   "source": [
    "import pandas as pd\n",
    "\n",
    "customers_df = pd.read_csv('customers.csv')\n",
    "sales_df = pd.read_csv('sales.csv')\n",
    "customers_dict = customers_df.to_dict(orient='records')\n",
    "city_to_filter = 'New York'\n",
    "filtered_customers_dict = [customer for customer in customers_dict if customer['City'] == city_to_filter]\n",
    "print(f\"\\nNumber of customers from {city_to_filter} (Dictionary approach):\", len(filtered_customers_dict))\n",
    "filtered_customers_df = customers_df[customers_df['City'] == city_to_filter]\n",
    "print(f\"Number of customers from {city_to_filter} (DataFrame approach):\", len(filtered_customers_df))"
   ]
  }
 ],
 "metadata": {
  "kernelspec": {
   "display_name": "Python 3",
   "language": "python",
   "name": "python3"
  },
  "language_info": {
   "codemirror_mode": {
    "name": "ipython",
    "version": 3
   },
   "file_extension": ".py",
   "mimetype": "text/x-python",
   "name": "python",
   "nbconvert_exporter": "python",
   "pygments_lexer": "ipython3",
   "version": "3.11.4"
  }
 },
 "nbformat": 4,
 "nbformat_minor": 2
}
