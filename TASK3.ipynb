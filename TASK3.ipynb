{
 "cells": [
  {
   "cell_type": "code",
   "execution_count": 1,
   "metadata": {},
   "outputs": [
    {
     "name": "stdout",
     "output_type": "stream",
     "text": [
      "\n",
      "Duplicate rows in customers.csv: 0\n",
      "Duplicate rows in sales.csv: 0\n",
      "\n",
      "Duplicates after cleaning (customers.csv): 0\n",
      "Duplicates after cleaning (sales.csv): 0\n"
     ]
    }
   ],
   "source": [
    "import pandas as pd\n",
    "\n",
    "customers_df = pd.read_csv('customers.csv')\n",
    "sales_df = pd.read_csv('sales.csv')\n",
    "print(\"\\nDuplicate rows in customers.csv:\", customers_df.duplicated().sum())\n",
    "print(\"Duplicate rows in sales.csv:\", sales_df.duplicated().sum())\n",
    "\n",
    "\n",
    "customers_df.drop_duplicates(inplace=True)\n",
    "sales_df.drop_duplicates(inplace=True)\n",
    "\n",
    "\n",
    "print(\"\\nDuplicates after cleaning (customers.csv):\", customers_df.duplicated().sum())\n",
    "print(\"Duplicates after cleaning (sales.csv):\", sales_df.duplicated().sum())"
   ]
  }
 ],
 "metadata": {
  "kernelspec": {
   "display_name": "Python 3",
   "language": "python",
   "name": "python3"
  },
  "language_info": {
   "codemirror_mode": {
    "name": "ipython",
    "version": 3
   },
   "file_extension": ".py",
   "mimetype": "text/x-python",
   "name": "python",
   "nbconvert_exporter": "python",
   "pygments_lexer": "ipython3",
   "version": "3.11.4"
  }
 },
 "nbformat": 4,
 "nbformat_minor": 2
}
